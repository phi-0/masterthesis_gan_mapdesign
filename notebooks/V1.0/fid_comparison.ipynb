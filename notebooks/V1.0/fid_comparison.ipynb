{
 "cells": [
  {
   "cell_type": "markdown",
   "metadata": {},
   "source": [
    "# Calculate and Compare FID Scores of Model Output"
   ]
  },
  {
   "cell_type": "code",
   "execution_count": 1,
   "metadata": {},
   "outputs": [],
   "source": [
    "import tensorflow as tf\n",
    "from keras import backend as K\n",
    "import pathlib\n",
    "import numpy as np\n",
    "import pickle\n",
    "\n",
    "from numpy import cov\n",
    "#from numpy import trace\n",
    "#from numpy import iscomplexobj\n",
    "from scipy.linalg import sqrtm"
   ]
  },
  {
   "cell_type": "markdown",
   "metadata": {},
   "source": [
    "### Load and Adjust InceptionV3 Model"
   ]
  },
  {
   "cell_type": "code",
   "execution_count": 2,
   "metadata": {},
   "outputs": [],
   "source": [
    "# Load InceptionV3\n",
    "tf.keras.backend.clear_session()\n",
    "model = tf.keras.applications.InceptionV3(include_top=False, pooling='avg', input_shape=(299,299,3)) #Inception V3 expects 299 x 299 input"
   ]
  },
  {
   "cell_type": "markdown",
   "metadata": {},
   "source": [
    "### Load pre-calculated reference values for FID calculation"
   ]
  },
  {
   "cell_type": "code",
   "execution_count": 3,
   "metadata": {},
   "outputs": [],
   "source": [
    "# Load pickled reference values for real 1024^2, 256^2, 128^2 and 12^2 images\n",
    "\n",
    "# 1024\n",
    "with open('fid_reference_values_1024','rb') as p1:\n",
    "    mux_1024 = pickle.load(p1)\n",
    "    sigmax_1024 = pickle.load(p1)\n",
    "\n",
    "# 256, 128, 12\n",
    "with open('fid_reference_values','rb') as p2:\n",
    "    mux_256 = pickle.load(p2)\n",
    "    sigmax_256 = pickle.load(p2)\n",
    "    mux_128 = pickle.load(p2)\n",
    "    sigmax_128 = pickle.load(p2)\n",
    "    \n",
    "# 12x12 (tiles)\n",
    "with open('fid_reference_values_tiles','rb') as p3:\n",
    "    mux_tile = pickle.load(p3)\n",
    "    sigmax_tile = pickle.load(p3)"
   ]
  },
  {
   "cell_type": "markdown",
   "metadata": {},
   "source": [
    "### Define FID function\n",
    "\n",
    "based on https://machinelearningmastery.com/how-to-implement-the-frechet-inception-distance-fid-from-scratch/"
   ]
  },
  {
   "cell_type": "code",
   "execution_count": 4,
   "metadata": {},
   "outputs": [],
   "source": [
    "# calculate frechet inception distance\n",
    "def calculate_fid(model, images, reference: tuple):    # calculate activations for images to compare to established baseline\n",
    "    \n",
    "    act = model.predict(images)\n",
    "    \n",
    "    # calculate mean and covariance statistics\n",
    "    ''' Not necessary as unpickling put into separate step\n",
    "    with open(reference, 'rb') as f:\n",
    "        mu1 = pickle.load(f)\n",
    "        sigma1 = pickle.load(f)\n",
    "    '''\n",
    "    mu1, sigma1 = reference\n",
    "    \n",
    "    mu2, sigma2 = act.mean(axis=0), np.cov(act, rowvar=False)\n",
    "    # calculate sum squared difference between means\n",
    "    ssdiff = np.sum((mu1 - mu2)**2.0)\n",
    "    # calculate sqrt of product between cov\n",
    "    covmean = sqrtm(sigma1.dot(sigma2))\n",
    "    # check and correct imaginary numbers from sqrt\n",
    "    if np.iscomplexobj(covmean):\n",
    "        covmean = covmean.real\n",
    "    # calculate score\n",
    "    fid = ssdiff + np.trace(sigma1 + sigma2 - 2.0 * covmean)\n",
    "    \n",
    "    return fid"
   ]
  },
  {
   "cell_type": "markdown",
   "metadata": {},
   "source": [
    "### Compare random generated images (DCGAN1024) against Reference\n",
    "\n",
    "We load a random subset of generated images from a previous run into a tensor and run that through the calculate_fid() function"
   ]
  },
  {
   "cell_type": "code",
   "execution_count": 5,
   "metadata": {},
   "outputs": [
    {
     "name": "stdout",
     "output_type": "stream",
     "text": [
      "Found 5 files belonging to 2 classes.\n",
      "We see that the result is quite large with a FID score of: 307623.73. A perfect imitation would score a FID score close to 0.\n"
     ]
    }
   ],
   "source": [
    "# load generated images\n",
    "IMAGE_SIZE = (299, 299) # here we specify the expected input size of Inception V3 to let image_dataset_from_directory() automatically resize the images\n",
    "BATCH_SIZE = 64\n",
    "\n",
    "data_dir = pathlib.Path('/data/output/images/dwarfgan001/run01')\n",
    "\n",
    "check = tf.keras.preprocessing.image_dataset_from_directory(  data_dir,\n",
    "                                                              image_size=IMAGE_SIZE, \n",
    "                                                              batch_size=BATCH_SIZE, \n",
    "                                                              #labels=[0.] * len(imgs), # setting all labels to 0 (for 'fake'), not relevant here\n",
    "                                                              #label_mode=None, # yields float32 type labels\n",
    "                                                              seed=42,\n",
    "                                                            )\n",
    "\n",
    "result_dcgan = calculate_fid(model, check, (mux_1024, sigmax_1024))\n",
    "print(f'We see that the result is quite large with a FID score of: {round(result_dcgan,2)}. A perfect imitation would score a FID score close to 0.')"
   ]
  },
  {
   "cell_type": "markdown",
   "metadata": {},
   "source": [
    "### Calculate FID for Real Image Crops (256x256) - BASELINE"
   ]
  },
  {
   "cell_type": "code",
   "execution_count": 6,
   "metadata": {},
   "outputs": [
    {
     "name": "stdout",
     "output_type": "stream",
     "text": [
      "Found 488044 files belonging to 1 classes.\n",
      "Using 2440 files for validation.\n"
     ]
    }
   ],
   "source": [
    "# load real images\n",
    "IMAGE_SIZE = (299, 299) # here we specify the expected input size of Inception V3 to let image_dataset_from_directory() automatically resize the images\n",
    "BATCH_SIZE = 64\n",
    "\n",
    "data_dir = pathlib.Path('/data/input/crops_small/') # 256x256 crops of original map images\n",
    "imgs = list(data_dir.glob('*.png'))\n",
    "\n",
    "check = tf.keras.preprocessing.image_dataset_from_directory(  data_dir,\n",
    "                                                              image_size=IMAGE_SIZE, \n",
    "                                                              batch_size=BATCH_SIZE, \n",
    "                                                              #labels=[0.] * len(imgs), # setting all labels to 0 (for 'fake'), not relevant here\n",
    "                                                              #label_mode=None, # yields float32 type labels\n",
    "                                                              seed=42,\n",
    "                                                              validation_split=0.005, #only using 0.5% of ~500'000 = ~2'500\n",
    "                                                              subset='validation'\n",
    "                                                            )\n",
    "\n",
    "result_real = calculate_fid(model, check, (mux_256, sigmax_256)) #specifying reference values for 256x256 images. This should yield a small value\n"
   ]
  },
  {
   "cell_type": "code",
   "execution_count": 7,
   "metadata": {},
   "outputs": [
    {
     "name": "stdout",
     "output_type": "stream",
     "text": [
      "Here we see a much lower FID score of: 707.79. Due to the variety of pictures, a score of 0 is unlikely.\n"
     ]
    }
   ],
   "source": [
    "print(f'Here we see a much lower FID score of: {round(result_real,2)}. Due to the variety of pictures, a score of 0 is unlikely.')"
   ]
  },
  {
   "cell_type": "markdown",
   "metadata": {},
   "source": [
    "### Check DCGAN256 Generated Output\n",
    "\n",
    "Since this model showed severe mode collapse, the check is run against output generated at epoch 500 rather than the last available state (epoch 1000)"
   ]
  },
  {
   "cell_type": "code",
   "execution_count": 8,
   "metadata": {},
   "outputs": [
    {
     "name": "stdout",
     "output_type": "stream",
     "text": [
      "Found 6 files belonging to 2 classes.\n"
     ]
    }
   ],
   "source": [
    "# load real images\n",
    "IMAGE_SIZE = (299, 299) # here we specify the expected input size of Inception V3 to let image_dataset_from_directory() automatically resize the images\n",
    "BATCH_SIZE = 32\n",
    "\n",
    "data_dir = '/data/output/images/DCGAN256FID/'\n",
    "#imgs = list(data_dir.glob('*.png'))\n",
    "\n",
    "check = tf.keras.preprocessing.image_dataset_from_directory(  data_dir,\n",
    "                                                              image_size=IMAGE_SIZE, \n",
    "                                                              batch_size=BATCH_SIZE, \n",
    "                                                              #labels=[0.] * len(imgs), # setting all labels to 0 (for 'fake'), not relevant here\n",
    "                                                              #label_mode=None, # yields float32 type labels\n",
    "                                                              seed=42\n",
    "                                                              #validation_split=0.025, #only 2.5% of 700'000 images as reference \n",
    "                                                              #subset='validation'\n",
    "                                                            )\n",
    "\n",
    "result_dcgan256 = calculate_fid(model, check, (mux_256, sigmax_256))"
   ]
  },
  {
   "cell_type": "code",
   "execution_count": 9,
   "metadata": {},
   "outputs": [
    {
     "name": "stdout",
     "output_type": "stream",
     "text": [
      "Here we see a FID score of 79057.59 from the DCGAN256 model compared to 707.79 of the real image reference score.\n"
     ]
    }
   ],
   "source": [
    "print(f'Here we see a FID score of {round(result_dcgan256,2)} from the DCGAN256 model compared to {round(result_real, 2)} of the real image reference score.')"
   ]
  },
  {
   "cell_type": "markdown",
   "metadata": {},
   "source": [
    "### Check WGAN-GP256 (RUN03) Generated Output\n",
    "\n",
    "Here we use the last available generator example (epoch 50) of RUN03 of the WGAN-GP256 model."
   ]
  },
  {
   "cell_type": "code",
   "execution_count": 10,
   "metadata": {},
   "outputs": [
    {
     "name": "stdout",
     "output_type": "stream",
     "text": [
      "Found 5 files belonging to 2 classes.\n",
      "FID Score WGAN-GP256 (RUN03): 122312.85\n"
     ]
    }
   ],
   "source": [
    "# load real images\n",
    "IMAGE_SIZE = (299, 299) # here we specify the expected input size of Inception V3 to let image_dataset_from_directory() automatically resize the images\n",
    "BATCH_SIZE = 64\n",
    "\n",
    "data_dir = '/data/output/images/WGANGP256FID/'\n",
    "#imgs = list(data_dir.glob('*.png'))\n",
    "\n",
    "check = tf.keras.preprocessing.image_dataset_from_directory(  data_dir,\n",
    "                                                              image_size=IMAGE_SIZE, \n",
    "                                                              batch_size=BATCH_SIZE, \n",
    "                                                              #labels=[0.] * len(imgs), # setting all labels to 0 (for 'fake'), not relevant here\n",
    "                                                              #label_mode=None, # yields float32 type labels\n",
    "                                                              seed=42\n",
    "                                                              #validation_split=0.025, #only 2.5% of 700'000 images as reference \n",
    "                                                              #subset='validation'\n",
    "                                                            )\n",
    "\n",
    "result_wgangp256 = calculate_fid(model, check, (mux_256, sigmax_256))\n",
    "print(f'FID Score WGAN-GP256 (RUN03): {round(result_wgangp256,2)}')"
   ]
  },
  {
   "cell_type": "markdown",
   "metadata": {},
   "source": [
    "Surprisingly this FID score is larger than the DCGAN256 one eventhough WGAN-GP RUN03 appears to create slightly more realistic images. Still, the size of the scores indicates that the generated images are far away from the original input data."
   ]
  },
  {
   "cell_type": "markdown",
   "metadata": {},
   "source": [
    "### Check WGAN-GP128 (RUN05) Generated Output"
   ]
  },
  {
   "cell_type": "code",
   "execution_count": 11,
   "metadata": {},
   "outputs": [
    {
     "name": "stdout",
     "output_type": "stream",
     "text": [
      "Found 5 files belonging to 2 classes.\n",
      "FID Score WGAN-GP128 (RUN05): 49363.99\n"
     ]
    }
   ],
   "source": [
    "# load real images\n",
    "IMAGE_SIZE = (299, 299) # here we specify the expected input size of Inception V3 to let image_dataset_from_directory() automatically resize the images\n",
    "BATCH_SIZE = 5\n",
    "\n",
    "data_dir = '/data2/output/images/WGANGPR05FID/'\n",
    "#imgs = list(data_dir.glob('*.png'))\n",
    "\n",
    "check = tf.keras.preprocessing.image_dataset_from_directory(  data_dir,\n",
    "                                                              image_size=IMAGE_SIZE, \n",
    "                                                              batch_size=BATCH_SIZE, \n",
    "                                                              #labels=[0.] * len(imgs), # setting all labels to 0 (for 'fake'), not relevant here\n",
    "                                                              #label_mode=None, # yields float32 type labels\n",
    "                                                              seed=42\n",
    "                                                              #validation_split=0.025, #only 2.5% of 700'000 images as reference \n",
    "                                                              #subset='validation'\n",
    "                                                            )\n",
    "\n",
    "result_wgangp128r5 = calculate_fid(model, check, (mux_128, sigmax_128))\n",
    "print(f'FID Score WGAN-GP128 (RUN05): {round(result_wgangp128r5,2)}')"
   ]
  },
  {
   "cell_type": "markdown",
   "metadata": {},
   "source": [
    "### Check WGAN-GP128 (RUN07) Generated Output"
   ]
  },
  {
   "cell_type": "code",
   "execution_count": 12,
   "metadata": {},
   "outputs": [
    {
     "name": "stdout",
     "output_type": "stream",
     "text": [
      "Found 7 files belonging to 2 classes.\n",
      "FID Score WGAN-GP128 (RUN07): 57108.33\n"
     ]
    }
   ],
   "source": [
    "# load real images\n",
    "IMAGE_SIZE = (299, 299) # here we specify the expected input size of Inception V3 to let image_dataset_from_directory() automatically resize the images\n",
    "BATCH_SIZE = 5\n",
    "\n",
    "data_dir = '/data2/output/images/WGANGPR07FID/'\n",
    "#imgs = list(data_dir.glob('*.png'))\n",
    "\n",
    "check = tf.keras.preprocessing.image_dataset_from_directory(  data_dir,\n",
    "                                                              image_size=IMAGE_SIZE, \n",
    "                                                              batch_size=BATCH_SIZE, \n",
    "                                                              #labels=[0.] * len(imgs), # setting all labels to 0 (for 'fake'), not relevant here\n",
    "                                                              #label_mode=None, # yields float32 type labels\n",
    "                                                              seed=42\n",
    "                                                              #validation_split=0.025, #only 2.5% of 700'000 images as reference \n",
    "                                                              #subset='validation'\n",
    "                                                            )\n",
    "\n",
    "result_wgangp128r7 = calculate_fid(model, check, (mux_128, sigmax_128))\n",
    "print(f'FID Score WGAN-GP128 (RUN07): {round(result_wgangp128r7,2)}')"
   ]
  },
  {
   "cell_type": "markdown",
   "metadata": {},
   "source": [
    "### Check WGAN-GP128 (RUN08) Generated Output"
   ]
  },
  {
   "cell_type": "code",
   "execution_count": 13,
   "metadata": {},
   "outputs": [
    {
     "name": "stdout",
     "output_type": "stream",
     "text": [
      "Found 10 files belonging to 2 classes.\n",
      "FID Score WGAN-GP128 (RUN08): 62711.06\n"
     ]
    }
   ],
   "source": [
    "# load real images\n",
    "IMAGE_SIZE = (299, 299) # here we specify the expected input size of Inception V3 to let image_dataset_from_directory() automatically resize the images\n",
    "BATCH_SIZE = 5\n",
    "\n",
    "data_dir = '/data2/output/images/WGANGPR08FID/'\n",
    "#imgs = list(data_dir.glob('*.png'))\n",
    "\n",
    "check = tf.keras.preprocessing.image_dataset_from_directory(  data_dir,\n",
    "                                                              image_size=IMAGE_SIZE, \n",
    "                                                              batch_size=BATCH_SIZE, \n",
    "                                                              #labels=[0.] * len(imgs), # setting all labels to 0 (for 'fake'), not relevant here\n",
    "                                                              #label_mode=None, # yields float32 type labels\n",
    "                                                              seed=42\n",
    "                                                              #validation_split=0.025, #only 2.5% of 700'000 images as reference \n",
    "                                                              #subset='validation'\n",
    "                                                            )\n",
    "\n",
    "result_wgangp128r8 = calculate_fid(model, check, (mux_128, sigmax_128))\n",
    "print(f'FID Score WGAN-GP128 (RUN08): {round(result_wgangp128r8,2)}')"
   ]
  },
  {
   "cell_type": "markdown",
   "metadata": {},
   "source": [
    "### Check WGAN-GPTiles (RUN09NoTiles) Generated Output"
   ]
  },
  {
   "cell_type": "code",
   "execution_count": 22,
   "metadata": {},
   "outputs": [
    {
     "name": "stdout",
     "output_type": "stream",
     "text": [
      "Found 5 files belonging to 2 classes.\n",
      "FID Score WGAN-GP RUN09NoTiles: 120974.43\n"
     ]
    }
   ],
   "source": [
    "# load real images\n",
    "IMAGE_SIZE = (299, 299) # here we specify the expected input size of Inception V3 to let image_dataset_from_directory() automatically resize the images\n",
    "BATCH_SIZE = 5\n",
    "\n",
    "data_dir = '/data2/output/images/WGANGPR09FID/'\n",
    "#imgs = list(data_dir.glob('*.png'))\n",
    "\n",
    "check = tf.keras.preprocessing.image_dataset_from_directory(  data_dir,\n",
    "                                                              image_size=IMAGE_SIZE, \n",
    "                                                              batch_size=BATCH_SIZE, \n",
    "                                                              #labels=[0.] * len(imgs), # setting all labels to 0 (for 'fake'), not relevant here\n",
    "                                                              #label_mode=None, # yields float32 type labels\n",
    "                                                              seed=42\n",
    "                                                              #validation_split=0.025, #only 2.5% of 700'000 images as reference \n",
    "                                                              #subset='validation'\n",
    "                                                            )\n",
    "\n",
    "result_wgangpr9notiles = calculate_fid(model, check, (mux_tile, sigmax_tile))\n",
    "print(f'FID Score WGAN-GP RUN09NoTiles: {round(result_wgangpr9notiles,2)}')"
   ]
  },
  {
   "cell_type": "markdown",
   "metadata": {},
   "source": [
    "### Check WGAN-GPTiles (RUN09Tiles) Generated Output"
   ]
  },
  {
   "cell_type": "code",
   "execution_count": 20,
   "metadata": {},
   "outputs": [
    {
     "name": "stdout",
     "output_type": "stream",
     "text": [
      "Found 5 files belonging to 2 classes.\n",
      "FID Score WGAN-GP RUN09Tiles: 75054.09\n"
     ]
    }
   ],
   "source": [
    "# load real images\n",
    "IMAGE_SIZE = (299, 299) # here we specify the expected input size of Inception V3 to let image_dataset_from_directory() automatically resize the images\n",
    "BATCH_SIZE = 5\n",
    "\n",
    "data_dir = '/data2/output/images/WGANGPR09TilesFID/'\n",
    "#imgs = list(data_dir.glob('*.png'))\n",
    "\n",
    "check = tf.keras.preprocessing.image_dataset_from_directory(  data_dir,\n",
    "                                                              image_size=IMAGE_SIZE, \n",
    "                                                              batch_size=BATCH_SIZE, \n",
    "                                                              #labels=[0.] * len(imgs), # setting all labels to 0 (for 'fake'), not relevant here\n",
    "                                                              #label_mode=None, # yields float32 type labels\n",
    "                                                              seed=42\n",
    "                                                              #validation_split=0.025, #only 2.5% of 700'000 images as reference \n",
    "                                                              #subset='validation'\n",
    "                                                            )\n",
    "\n",
    "result_wgangpr9tiles = calculate_fid(model, check, (mux_tile, sigmax_tile))\n",
    "print(f'FID Score WGAN-GP RUN09Tiles: {round(result_wgangpr9tiles,2)}')"
   ]
  },
  {
   "cell_type": "markdown",
   "metadata": {},
   "source": [
    "# Overview FID Score Development"
   ]
  },
  {
   "cell_type": "code",
   "execution_count": 23,
   "metadata": {},
   "outputs": [
    {
     "data": {
      "text/plain": [
       "[<matplotlib.lines.Line2D at 0x7f982e799128>]"
      ]
     },
     "execution_count": 23,
     "metadata": {},
     "output_type": "execute_result"
    },
    {
     "data": {
      "image/png": "[encoded data removed]",
      "text/plain": [
       "<Figure size 720x432 with 1 Axes>"
      ]
     },
     "metadata": {
      "needs_background": "light"
     },
     "output_type": "display_data"
    }
   ],
   "source": [
    "import matplotlib.pyplot as plt\n",
    "\n",
    "#build data tuple\n",
    "data = (result_real, result_dcgan, result_dcgan256, result_wgangp256, result_wgangp128r5, result_wgangp128r7, result_wgangp128r8, result_wgangpr9notiles, result_wgangpr9tiles)\n",
    "\n",
    "#create plot\n",
    "\n",
    "plt.figure(figsize=(10,6))\n",
    "\n",
    "plt.title('FID Score Development (lower is better)', \n",
    "          fontsize=18, \n",
    "          fontweight='bold')\n",
    "\n",
    "plt.xlabel('Model Scores', \n",
    "           fontsize=12)\n",
    "\n",
    "plt.xticks([i for i in range(len(data))], \n",
    "           ('Baseline','DCGAN1024','DCGAN256','WGAN-GP256','WGAN-GP128 RUN05','WGAN-GP128 RUN07','WGAN-GP128 RUN08','WGAN-GP RUN09NoTile', 'WGAN-GP RUN09Tiles'), \n",
    "           rotation=90, \n",
    "           fontsize=12)\n",
    "\n",
    "# baseline reference value\n",
    "plt.hlines(data[0],\n",
    "           0, \n",
    "           len(data)-1, \n",
    "           colors='black', \n",
    "           linestyle='dotted')\n",
    "\n",
    "plt.annotate(round(data[0],2)\n",
    "             , (0.1, 4000)\n",
    "            )\n",
    "\n",
    "#show plot\n",
    "plt.plot(data, 'co-')\n",
    "\n",
    "\n"
   ]
  }
 ],
 "metadata": {
  "kernelspec": {
   "display_name": "Python 3",
   "language": "python",
   "name": "python3"
  },
  "language_info": {
   "codemirror_mode": {
    "name": "ipython",
    "version": 3
   },
   "file_extension": ".py",
   "mimetype": "text/x-python",
   "name": "python",
   "nbconvert_exporter": "python",
   "pygments_lexer": "ipython3",
   "version": "3.6.9"
  }
 },
 "nbformat": 4,
 "nbformat_minor": 4
}
