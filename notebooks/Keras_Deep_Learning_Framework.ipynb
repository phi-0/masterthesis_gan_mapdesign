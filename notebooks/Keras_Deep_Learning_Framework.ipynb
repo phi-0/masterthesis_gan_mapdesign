{
 "cells": [
  {
   "cell_type": "code",
   "execution_count": 12,
   "metadata": {
    "collapsed": true,
    "pycharm": {
     "name": "#%%\n"
    }
   },
   "outputs": [],
   "source": [
    "# import modules\n",
    "from keras.layers import Input, Dense\n",
    "\n",
    "# Create input layer here with shape 1. NOTE: the shape argument of the Input() functionr requires a tuple\n",
    "input_tensor = Input(shape=(1,))\n",
    "\n",
    "# Define output (Dense) layer of shape 1\n",
    "output_layer = Dense(1, name='Predicted-Score')\n",
    "\n",
    "# Connecting the two layers\n",
    "output_tensor = output_layer(input_tensor)\n",
    "\n",
    "# OR create output_layer and connect it to input layer in one step:\n",
    "output_tensor = Dense(1)(input_tensor)"
   ]
  },
  {
   "cell_type": "code",
   "execution_count": 13,
   "outputs": [],
   "source": [
    "# Define model\n",
    "from keras.models import Model\n",
    "model = Model(input_tensor, output_tensor)"
   ],
   "metadata": {
    "collapsed": false,
    "pycharm": {
     "name": "#%%\n"
    }
   }
  },
  {
   "cell_type": "code",
   "execution_count": 14,
   "outputs": [
    {
     "name": "stdout",
     "output_type": "stream",
     "text": [
      "Model: \"model_2\"\n",
      "_________________________________________________________________\n",
      "Layer (type)                 Output Shape              Param #   \n",
      "=================================================================\n",
      "input_4 (InputLayer)         [(None, 1)]               0         \n",
      "_________________________________________________________________\n",
      "dense_3 (Dense)              (None, 1)                 2         \n",
      "=================================================================\n",
      "Total params: 2\n",
      "Trainable params: 2\n",
      "Non-trainable params: 0\n",
      "_________________________________________________________________\n"
     ]
    }
   ],
   "source": [
    "# Compile model (define loss, optimizer, hyperparameters)\n",
    "model.compile(optimizer='adam', loss='mean_absolute_error')\n",
    "\n",
    "# show summary of model\n",
    "model.summary()"
   ],
   "metadata": {
    "collapsed": false,
    "pycharm": {
     "name": "#%%\n"
    }
   }
  },
  {
   "cell_type": "code",
   "execution_count": 15,
   "outputs": [
    {
     "data": {
      "image/png": "[encoded data removed]",
      "text/plain": "<IPython.core.display.Image object>"
     },
     "execution_count": 15,
     "metadata": {},
     "output_type": "execute_result"
    }
   ],
   "source": [
    "# Plotting a model\n",
    "from keras.utils import plot_model\n",
    "import pydotplus\n",
    "from keras.utils import vis_utils\n",
    "from keras.utils.vis_utils import model_to_dot\n",
    "vis_utils.pydot = pydotplus\n",
    "\n",
    "# plot + save the model graph plot\n",
    "plot_model(model, to_file ='model.png')"
   ],
   "metadata": {
    "collapsed": false,
    "pycharm": {
     "name": "#%%\n"
    }
   }
  },
  {
   "cell_type": "code",
   "execution_count": 16,
   "outputs": [
    {
     "data": {
      "text/plain": "<Figure size 432x288 with 1 Axes>",
      "image/png": "[encoded data removed]"
     },
     "metadata": {
      "needs_background": "light"
     },
     "output_type": "display_data"
    }
   ],
   "source": [
    "# visualise the saved plot\n",
    "from matplotlib import pyplot as plt\n",
    "img = plt.imread('model.png')\n",
    "plt.imshow(img)\n",
    "plt.show()"
   ],
   "metadata": {
    "collapsed": false,
    "pycharm": {
     "name": "#%%\n"
    }
   }
  },
  {
   "cell_type": "code",
   "execution_count": 20,
   "outputs": [
    {
     "name": "stdout",
     "output_type": "stream",
     "text": [
      "27/27 [==============================] - 0s 2ms/step - loss: 16.5288 - val_loss: 15.4838\b\b\b\b\b\b\b\b\b\b\b\b\b\b\b\b\b\b\b\b\b\b\b\b\b\b\b\b\b\b\b\b\b\b\b\b\b\b\b\b\n"
     ]
    },
    {
     "data": {
      "text/plain": "<tensorflow.python.keras.callbacks.History at 0x1e9b55ac850>"
     },
     "execution_count": 20,
     "metadata": {},
     "output_type": "execute_result"
    }
   ],
   "source": [
    "# Fit model\n",
    "import pandas as pd\n",
    "##  read data basketball game sexample\n",
    "games = pd.read_csv('..\\data\\\\test_data\\\\games_tourney.csv')\n",
    "games.head()\n",
    "\n",
    "## fit the model to input data\n",
    "model.fit(games['seed_diff'],   # the predictor\n",
    "          games['score_diff'],  # the target variable\n",
    "          epochs=1,             # number of epochs\n",
    "          batch_size=128,        # batch size\n",
    "          validation_split=.20, # define cross-validation (holdout set) split\n",
    "          verbose=True)         # show progress\n",
    "\n"
   ],
   "metadata": {
    "collapsed": false,
    "pycharm": {
     "name": "#%%\n"
    }
   }
  },
  {
   "cell_type": "code",
   "execution_count": 21,
   "outputs": [
    {
     "name": "stdout",
     "output_type": "stream",
     "text": [
      "16.261810302734375\n"
     ]
    }
   ],
   "source": [
    "# Evaluating the model\n",
    "# Load the X variable from the test data\n",
    "X_test = games['seed_diff']\n",
    "\n",
    "# Load the y variable from the test data\n",
    "y_test = games['score_diff']\n",
    "\n",
    "# Evaluate the model on the test data\n",
    "print(model.evaluate(X_test, y_test, verbose=False))"
   ],
   "metadata": {
    "collapsed": false,
    "pycharm": {
     "name": "#%%\n"
    }
   }
  }
 ],
 "metadata": {
  "kernelspec": {
   "display_name": "Python 3",
   "language": "python",
   "name": "python3"
  },
  "language_info": {
   "codemirror_mode": {
    "name": "ipython",
    "version": 2
   },
   "file_extension": ".py",
   "mimetype": "text/x-python",
   "name": "python",
   "nbconvert_exporter": "python",
   "pygments_lexer": "ipython2",
   "version": "2.7.6"
  }
 },
 "nbformat": 4,
 "nbformat_minor": 0
}